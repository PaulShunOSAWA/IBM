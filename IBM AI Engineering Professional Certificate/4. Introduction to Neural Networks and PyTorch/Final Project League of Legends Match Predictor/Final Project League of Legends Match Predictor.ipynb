{
 "cells": [
  {
   "cell_type": "markdown",
   "metadata": {},
   "source": [
    "<img src=\"https://cf-courses-data.s3.us.cloud-object-storage.appdomain.cloud/assets/logos/SN_web_lightmode.png\" height=300 width=300 />\n"
   ]
  },
  {
   "cell_type": "markdown",
   "metadata": {},
   "source": [
    "# Final Project: League of Legends Match Predictor \n"
   ]
  },
  {
   "cell_type": "markdown",
   "metadata": {},
   "source": [
    "### Introduction  \n",
    "\n",
    "League of Legends, a popular multiplayer online battle arena (MOBA) game, generates extensive data from matches, providing an excellent opportunity to apply machine learning techniques to real-world scenarios. Perform the following steps to build a logistic regression model aimed at predicting the outcomes of League of Legends matches.  \n",
    "\n",
    "Use the [league_of_legends_data_large.csv](https://cf-courses-data.s3.us.cloud-object-storage.appdomain.cloud/rk7VDaPjMp1h5VXS-cUyMg/league-of-legends-data-large.csv) file to perform the tasks.  \n",
    "\n",
    "### Step 1: Data Loading and Preprocessing  \n",
    "\n",
    "#### Task 1: Load the League of Legends dataset and preprocess it for training.  \n",
    "\n",
    "Loading and preprocessing the dataset involves reading the data, splitting it into training and testing sets, and standardizing the features. You will utilize `pandas` for data manipulation, `train_test_split` from `sklearn` for data splitting, and `StandardScaler` for feature scaling.  \n",
    "\n",
    "Loading and preprocessing the dataset involves reading the data, splitting it into training and testing sets, and standardizing the features.  \n",
    "\n",
    "Please take responsibility for managing and installing all the required libraries for this lab on your own.\n",
    "\n",
    "#### Exercise 1:  \n",
    "\n",
    "Write a code to load the dataset, split it into training and testing sets, standardize the features, and convert the data into PyTorch tensors for use in training a PyTorch model.  \n"
   ]
  },
  {
   "cell_type": "markdown",
   "metadata": {},
   "source": [
    "ステップ 1: データの読み込みと前処理\n",
    "タスク 1: League of Legendsのデータセットを読み込み、トレーニングのために前処理を行う。 データセットの読み込みと前処理には、データの読み込み、トレーニングセットとテストセットへの分割、および特徴量の標準化が含まれます。データ操作にはpandasを、データ分割にはsklearnのtrain_test_splitを、特徴量のスケーリングにはStandardScalerを使用します。\n",
    "\n",
    "データセットの読み込みと前処理には、データの読み込み、トレーニングセットとテストセットへの分割、および特徴量の標準化が含まれます。\n",
    "\n",
    "このラボで必要なライブラリの管理とインストールについては、各自で責任を持って行ってください。\n",
    "\n",
    "演習 1\n",
    "データセットを読み込み、トレーニングセットとテストセットに分割し、特徴量を標準化し、データをPyTorchテンソルに変換してPyTorchモデルのトレーニングで使用できるようにするコードを書いてください。"
   ]
  },
  {
   "cell_type": "code",
   "execution_count": 5,
   "metadata": {},
   "outputs": [
    {
     "name": "stdout",
     "output_type": "stream",
     "text": [
      "Requirement already satisfied: pandas in c:\\python312\\lib\\site-packages (2.2.2)\n",
      "Requirement already satisfied: numpy in c:\\python312\\lib\\site-packages (2.0.0)\n",
      "Requirement already satisfied: matplotlib in c:\\python312\\lib\\site-packages (3.9.2)\n",
      "Collecting seaborn\n",
      "  Using cached seaborn-0.13.2-py3-none-any.whl.metadata (5.4 kB)\n",
      "Collecting scikit-learn\n",
      "  Using cached scikit_learn-1.5.2-cp312-cp312-win_amd64.whl.metadata (13 kB)\n",
      "Collecting torch\n",
      "  Using cached torch-2.5.1-cp312-cp312-win_amd64.whl.metadata (28 kB)\n",
      "Requirement already satisfied: python-dateutil>=2.8.2 in c:\\python312\\lib\\site-packages (from pandas) (2.9.0.post0)\n",
      "Requirement already satisfied: pytz>=2020.1 in c:\\python312\\lib\\site-packages (from pandas) (2024.1)\n",
      "Requirement already satisfied: tzdata>=2022.7 in c:\\python312\\lib\\site-packages (from pandas) (2024.1)\n",
      "Requirement already satisfied: contourpy>=1.0.1 in c:\\python312\\lib\\site-packages (from matplotlib) (1.3.0)\n",
      "Requirement already satisfied: cycler>=0.10 in c:\\python312\\lib\\site-packages (from matplotlib) (0.12.1)\n",
      "Requirement already satisfied: fonttools>=4.22.0 in c:\\python312\\lib\\site-packages (from matplotlib) (4.53.1)\n",
      "Requirement already satisfied: kiwisolver>=1.3.1 in c:\\python312\\lib\\site-packages (from matplotlib) (1.4.7)\n",
      "Requirement already satisfied: packaging>=20.0 in c:\\python312\\lib\\site-packages (from matplotlib) (24.1)\n",
      "Requirement already satisfied: pillow>=8 in c:\\python312\\lib\\site-packages (from matplotlib) (10.4.0)\n",
      "Requirement already satisfied: pyparsing>=2.3.1 in c:\\python312\\lib\\site-packages (from matplotlib) (3.1.4)\n",
      "Collecting scipy>=1.6.0 (from scikit-learn)\n",
      "  Using cached scipy-1.14.1-cp312-cp312-win_amd64.whl.metadata (60 kB)\n",
      "Collecting joblib>=1.2.0 (from scikit-learn)\n",
      "  Using cached joblib-1.4.2-py3-none-any.whl.metadata (5.4 kB)\n",
      "Requirement already satisfied: threadpoolctl>=3.1.0 in c:\\python312\\lib\\site-packages (from scikit-learn) (3.5.0)\n",
      "Collecting filelock (from torch)\n",
      "  Using cached filelock-3.16.1-py3-none-any.whl.metadata (2.9 kB)\n",
      "Requirement already satisfied: typing-extensions>=4.8.0 in c:\\python312\\lib\\site-packages (from torch) (4.12.2)\n",
      "Collecting networkx (from torch)\n",
      "  Using cached networkx-3.4.2-py3-none-any.whl.metadata (6.3 kB)\n",
      "Collecting jinja2 (from torch)\n",
      "  Using cached jinja2-3.1.4-py3-none-any.whl.metadata (2.6 kB)\n",
      "Collecting fsspec (from torch)\n",
      "  Using cached fsspec-2024.10.0-py3-none-any.whl.metadata (11 kB)\n",
      "Requirement already satisfied: setuptools in c:\\python312\\lib\\site-packages (from torch) (70.1.1)\n",
      "Requirement already satisfied: sympy==1.13.1 in c:\\python312\\lib\\site-packages (from torch) (1.13.1)\n",
      "Requirement already satisfied: mpmath<1.4,>=1.1.0 in c:\\python312\\lib\\site-packages (from sympy==1.13.1->torch) (1.3.0)\n",
      "Requirement already satisfied: six>=1.5 in c:\\python312\\lib\\site-packages (from python-dateutil>=2.8.2->pandas) (1.16.0)\n",
      "Collecting MarkupSafe>=2.0 (from jinja2->torch)\n",
      "  Using cached MarkupSafe-3.0.2-cp312-cp312-win_amd64.whl.metadata (4.1 kB)\n",
      "Using cached seaborn-0.13.2-py3-none-any.whl (294 kB)\n",
      "Using cached scikit_learn-1.5.2-cp312-cp312-win_amd64.whl (11.0 MB)\n",
      "Using cached torch-2.5.1-cp312-cp312-win_amd64.whl (203.0 MB)\n",
      "Using cached joblib-1.4.2-py3-none-any.whl (301 kB)\n",
      "Using cached scipy-1.14.1-cp312-cp312-win_amd64.whl (44.5 MB)\n",
      "Using cached filelock-3.16.1-py3-none-any.whl (16 kB)\n",
      "Using cached fsspec-2024.10.0-py3-none-any.whl (179 kB)\n",
      "Using cached jinja2-3.1.4-py3-none-any.whl (133 kB)\n",
      "Using cached networkx-3.4.2-py3-none-any.whl (1.7 MB)\n",
      "Using cached MarkupSafe-3.0.2-cp312-cp312-win_amd64.whl (15 kB)\n",
      "Installing collected packages: scipy, networkx, MarkupSafe, joblib, fsspec, filelock, scikit-learn, jinja2, torch, seaborn\n"
     ]
    },
    {
     "name": "stderr",
     "output_type": "stream",
     "text": [
      "  WARNING: Failed to write executable - trying to use .deleteme logic\n",
      "ERROR: Could not install packages due to an OSError: [WinError 2] 指定されたファイルが見つかりません。: 'C:\\\\Python312\\\\Scripts\\\\convert-caffe2-to-onnx.exe' -> 'C:\\\\Python312\\\\Scripts\\\\convert-caffe2-to-onnx.exe.deleteme'\n",
      "\n",
      "\n",
      "[notice] A new release of pip is available: 24.0 -> 24.3.1\n",
      "[notice] To update, run: python.exe -m pip install --upgrade pip\n"
     ]
    }
   ],
   "source": [
    "# 必要なライブラリをインストール\n",
    "!pip install pandas numpy matplotlib seaborn scikit-learn torch\n",
    "\n"
   ]
  },
  {
   "cell_type": "code",
   "execution_count": 6,
   "metadata": {},
   "outputs": [
    {
     "name": "stdout",
     "output_type": "stream",
     "text": [
      "データの読み込み、分割、標準化が完了しました。\n"
     ]
    }
   ],
   "source": [
    "import pandas as pd\n",
    "from sklearn.model_selection import train_test_split\n",
    "from sklearn.preprocessing import StandardScaler\n",
    "import torch\n",
    "\n",
    "# データセットを読み込む\n",
    "data = pd.read_csv('league_of_legends_data_large.csv')\n",
    "\n",
    "# データの前処理を行う\n",
    "X = data.drop('win', axis=1)  # ターゲット列 'win' を除外して特徴量にする\n",
    "y = data['win']  # ターゲット列 'win' を設定\n",
    "\n",
    "# データセットをトレーニングセットとテストセットに分割する\n",
    "X_train, X_test, y_train, y_test = train_test_split(X, y, test_size=0.2, random_state=42)\n",
    "\n",
    "# データを標準化する\n",
    "scaler = StandardScaler()\n",
    "X_train = scaler.fit_transform(X_train)  # トレーニングデータに基づいて標準化\n",
    "X_test = scaler.transform(X_test)  # テストデータも同じスケーリングを適用\n",
    "\n",
    "# テンソルに変換する\n",
    "X_train = torch.tensor(X_train, dtype=torch.float32)\n",
    "y_train = torch.tensor(y_train.values, dtype=torch.float32).unsqueeze(1)  # ターゲットを1列に整形\n",
    "X_test = torch.tensor(X_test, dtype=torch.float32)\n",
    "y_test = torch.tensor(y_test.values, dtype=torch.float32).unsqueeze(1)  # ターゲットを1列に整形\n",
    "\n",
    "print(\"データの読み込み、分割、標準化が完了しました。\")\n"
   ]
  },
  {
   "cell_type": "markdown",
   "metadata": {},
   "source": [
    "### Step 2: Logistic Regression Model  \n",
    "\n",
    "#### Task 2: Implement a logistic regression model using PyTorch.  \n",
    "\n",
    "Defining the logistic regression model involves specifying the input dimensions, the forward pass using the sigmoid activation function, and initializing the model, loss function, and optimizer.  \n",
    "\n",
    "#### Exercise 2:  \n",
    "\n",
    "Define the logistic regression model using PyTorch, specifying the input dimensions and the forward pass. Initialize the model, loss function, and optimizer.  \n"
   ]
  },
  {
   "cell_type": "markdown",
   "metadata": {},
   "source": [
    "ステップ 2: ロジスティック回帰モデル\n",
    "タスク 2: PyTorchを使用してロジスティック回帰モデルを実装する。\n",
    "ロジスティック回帰モデルの定義には、入力の次元を指定し、シグモイド活性化関数を使ったフォワードパスを定義し、モデル、損失関数、およびオプティマイザの初期化が含まれます。\n",
    "\n",
    "演習 2:\n",
    "PyTorchを使用してロジスティック回帰モデルを定義し、入力の次元とフォワードパスを指定してください。また、モデル、損失関数、およびオプティマイザを初期化してください。"
   ]
  },
  {
   "cell_type": "code",
   "execution_count": 7,
   "metadata": {},
   "outputs": [
    {
     "name": "stdout",
     "output_type": "stream",
     "text": [
      "モデル、損失関数、およびオプティマイザの初期化が完了しました。\n"
     ]
    }
   ],
   "source": [
    "import torch.nn as nn\n",
    "import torch.optim as optim\n",
    "\n",
    "# ロジスティック回帰モデルを定義する\n",
    "class LogisticRegressionModel(nn.Module):\n",
    "    def __init__(self, input_dim):\n",
    "        super(LogisticRegressionModel, self).__init__()\n",
    "        # 線形層を定義（入力次元から1つの出力に変換）\n",
    "        self.linear = nn.Linear(input_dim, 1)\n",
    "        \n",
    "    def forward(self, x):\n",
    "        # 線形変換の結果にシグモイド関数を適用して予測値を出力\n",
    "        return torch.sigmoid(self.linear(x))\n",
    "\n",
    "# モデル、損失関数、およびオプティマイザを初期化\n",
    "input_dim = X_train.shape[1]  # 入力次元（特徴量の数）を設定\n",
    "model = LogisticRegressionModel(input_dim)  # モデルを初期化\n",
    "criterion = nn.BCELoss()  # バイナリクロスエントロピー損失を使用\n",
    "optimizer = optim.SGD(model.parameters(), lr=0.01)  # 確率的勾配降下法（SGD）オプティマイザを設定\n",
    "\n",
    "print(\"モデル、損失関数、およびオプティマイザの初期化が完了しました。\")\n"
   ]
  },
  {
   "cell_type": "markdown",
   "metadata": {},
   "source": [
    "### Step 3: Model Training  \n",
    "\n",
    "#### Task 3: Train the logistic regression model on the dataset.  \n",
    "\n",
    "The training loop will run for a specified number of epochs. In each epoch, the model makes predictions, calculates the loss, performs backpropagation, and updates the model parameters .  \n",
    "\n",
    "#### Exercise 3:  \n",
    "\n",
    "Write the code to train the logistic regression model on the dataset. Implement the training loop, making predictions, calculating the loss, performing backpropagation, and updating model parameters. Evaluate the model's accuracy on training and testing sets.  \n"
   ]
  },
  {
   "cell_type": "markdown",
   "metadata": {},
   "source": [
    "ステップ 3: モデルのトレーニング\n",
    "タスク 3: データセットを使ってロジスティック回帰モデルをトレーニングする。\n",
    "トレーニングループは指定されたエポック数だけ実行します。各エポックで、モデルが予測を行い、損失を計算し、逆伝播を実行してモデルのパラメータを更新します。\n",
    "\n",
    "演習 3:\n",
    "データセットを使ってロジスティック回帰モデルをトレーニングするコードを書いてください。トレーニングループを実装し、予測、損失の計算、逆伝播、モデルパラメータの更新を行います。また、トレーニングセットとテストセットにおけるモデルの精度を評価してください。"
   ]
  },
  {
   "cell_type": "code",
   "execution_count": 8,
   "metadata": {},
   "outputs": [
    {
     "name": "stdout",
     "output_type": "stream",
     "text": [
      "Epoch [100/1000], Loss: 0.7290\n",
      "Epoch [200/1000], Loss: 0.7115\n",
      "Epoch [300/1000], Loss: 0.7009\n",
      "Epoch [400/1000], Loss: 0.6945\n",
      "Epoch [500/1000], Loss: 0.6907\n",
      "Epoch [600/1000], Loss: 0.6885\n",
      "Epoch [700/1000], Loss: 0.6872\n",
      "Epoch [800/1000], Loss: 0.6864\n",
      "Epoch [900/1000], Loss: 0.6859\n",
      "Epoch [1000/1000], Loss: 0.6857\n",
      "Train Accuracy: 0.5638\n",
      "Test Accuracy: 0.5150\n"
     ]
    }
   ],
   "source": [
    "# モデルのトレーニング\n",
    "epochs = 1000  # エポック数（学習の繰り返し回数）\n",
    "for epoch in range(epochs):\n",
    "    model.train()  # モデルをトレーニングモードに設定\n",
    "    optimizer.zero_grad()  # 勾配をリセット\n",
    "    outputs = model(X_train)  # トレーニングデータを使用して予測値を計算\n",
    "    loss = criterion(outputs, y_train)  # 損失を計算（予測値と実際のラベルの誤差）\n",
    "    loss.backward()  # 逆伝播を実行して勾配を計算\n",
    "    optimizer.step()  # 勾配降下法に基づいてパラメータを更新\n",
    "    \n",
    "    # 100エポックごとに損失を表示\n",
    "    if (epoch+1) % 100 == 0:\n",
    "        print(f'Epoch [{epoch+1}/{epochs}], Loss: {loss.item():.4f}')\n",
    "\n",
    "# モデルの評価\n",
    "model.eval()  # モデルを評価モードに設定\n",
    "with torch.no_grad():  # 勾配計算を無効にしてメモリ節約\n",
    "    y_pred_train = model(X_train).detach()  # トレーニングデータでの予測を計算\n",
    "    y_pred_test = model(X_test).detach()  # テストデータでの予測を計算\n",
    "\n",
    "# トレーニングとテストデータでの精度を計算\n",
    "train_accuracy = ((y_pred_train > 0.5) == y_train).float().mean()  # トレーニングデータの精度\n",
    "test_accuracy = ((y_pred_test > 0.5) == y_test).float().mean()  # テストデータの精度\n",
    "\n",
    "# 精度を表示\n",
    "print(f'Train Accuracy: {train_accuracy:.4f}')\n",
    "print(f'Test Accuracy: {test_accuracy:.4f}')"
   ]
  },
  {
   "cell_type": "markdown",
   "metadata": {},
   "source": [
    "### Step 4: Model Optimization and Evaluation  \n",
    "\n",
    "#### Task 4: Implement optimization techniques and evaluate the model's performance.  \n",
    "\n",
    "Optimization techniques such as L2 regularization (Ridge Regression) help in preventing overfitting. The model is retrained with these optimizations, and its performance is evaluated on both training and testing sets.  \n",
    "\n",
    "#### Exercise 4:  \n",
    "\n",
    "Implement optimization techniques like L2 regularization and retrain the model. Evaluate the performance of the optimized model on both training and testing sets.  \n"
   ]
  },
  {
   "cell_type": "markdown",
   "metadata": {},
   "source": [
    "ステップ 4: モデルの最適化と評価\n",
    "タスク 4: 最適化手法を実装し、モデルのパフォーマンスを評価する。\n",
    "L2正則化（リッジ回帰）などの最適化手法は、過学習を防ぐのに役立ちます。これらの最適化を使ってモデルを再トレーニングし、トレーニングセットとテストセットの両方でそのパフォーマンスを評価します。\n",
    "\n",
    "演習 4:\n",
    "L2正則化などの最適化手法を実装し、モデルを再トレーニングしてください。最適化されたモデルのパフォーマンスを、トレーニングセットとテストセットの両方で評価してください。"
   ]
  },
  {
   "cell_type": "code",
   "execution_count": 9,
   "metadata": {},
   "outputs": [
    {
     "name": "stdout",
     "output_type": "stream",
     "text": [
      "Epoch [100/1000], Loss: 0.6855\n",
      "Epoch [200/1000], Loss: 0.6854\n",
      "Epoch [300/1000], Loss: 0.6854\n",
      "Epoch [400/1000], Loss: 0.6853\n",
      "Epoch [500/1000], Loss: 0.6853\n",
      "Epoch [600/1000], Loss: 0.6853\n",
      "Epoch [700/1000], Loss: 0.6853\n",
      "Epoch [800/1000], Loss: 0.6853\n",
      "Epoch [900/1000], Loss: 0.6853\n",
      "Epoch [1000/1000], Loss: 0.6853\n",
      "Train Accuracy: 0.5437\n",
      "Test Accuracy: 0.5050\n"
     ]
    }
   ],
   "source": [
    "# L2正則化（リッジ回帰）を実装する\n",
    "optimizer = optim.SGD(model.parameters(), lr=0.01, weight_decay=0.01)  # weight_decay パラメータを使用してL2正則化を追加\n",
    "\n",
    "# L2正則化を使用してモデルを再トレーニング\n",
    "epochs = 1000  # エポック数を設定\n",
    "for epoch in range(epochs):\n",
    "    model.train()  # モデルをトレーニングモードに設定\n",
    "    optimizer.zero_grad()  # 勾配をリセット\n",
    "    outputs = model(X_train)  # トレーニングデータを使用して予測値を計算\n",
    "    loss = criterion(outputs, y_train)  # 損失を計算（予測値と実際のラベルの誤差）\n",
    "    loss.backward()  # 逆伝播を実行して勾配を計算\n",
    "    optimizer.step()  # 勾配降下法に基づいてパラメータを更新\n",
    "    \n",
    "    # 100エポックごとに損失を表示\n",
    "    if (epoch+1) % 100 == 0:\n",
    "        print(f'Epoch [{epoch+1}/{epochs}], Loss: {loss.item():.4f}')\n",
    "\n",
    "# 最適化されたモデルの評価\n",
    "model.eval()  # モデルを評価モードに設定\n",
    "with torch.no_grad():  # 勾配計算を無効にしてメモリ節約\n",
    "    y_pred_train = model(X_train).detach()  # トレーニングデータでの予測を計算\n",
    "    y_pred_test = model(X_test).detach()  # テストデータでの予測を計算\n",
    "\n",
    "# トレーニングとテストデータでの精度を計算\n",
    "train_accuracy = ((y_pred_train > 0.5) == y_train).float().mean()  # トレーニングデータの精度\n",
    "test_accuracy = ((y_pred_test > 0.5) == y_test).float().mean()  # テストデータの精度\n",
    "\n",
    "# 精度を表示\n",
    "print(f'Train Accuracy: {train_accuracy:.4f}')\n",
    "print(f'Test Accuracy: {test_accuracy:.4f}')\n"
   ]
  },
  {
   "cell_type": "markdown",
   "metadata": {},
   "source": [
    "### Step 5: Visualization and Interpretation  \n",
    "\n",
    "#### Task 5: Visualize the model's performance and interpret the results.  \n",
    "\n",
    "Visualization tools like confusion matrices and ROC curves provide insights into the model's performance. The confusion matrix helps in understanding the classification accuracy, while the ROC curve illustrates the trade-off between sensitivity and specificity.  \n",
    "\n",
    "#### Exercise 5:  \n",
    "\n",
    "Write code to visualize the model's performance using confusion matrices and ROC curves. Generate classification reports to evaluate precision, recall, and F1-score. Retrain the model with L2 regularization and evaluate the performance.  \n"
   ]
  },
  {
   "cell_type": "markdown",
   "metadata": {},
   "source": [
    "ステップ 5: 可視化と解釈\n",
    "タスク 5: モデルのパフォーマンスを可視化し、結果を解釈する。\n",
    "混同行列やROC曲線といった可視化ツールは、モデルのパフォーマンスを理解するのに役立ちます。混同行列は分類の精度を理解するために、ROC曲線は感度と特異度のトレードオフを示すために使用されます。\n",
    "\n",
    "演習 5:\n",
    "混同行列とROC曲線を使用してモデルのパフォーマンスを可視化するコードを書いてください。さらに、分類レポートを生成し、精度（precision）、再現率（recall）、F1スコアを評価してください。L2正則化を用いてモデルを再トレーニングし、パフォーマンスを評価してください。"
   ]
  },
  {
   "cell_type": "code",
   "execution_count": 10,
   "metadata": {},
   "outputs": [
    {
     "data": {
      "image/png": "[encoded data removed]",
      "text/plain": [
       "<Figure size 600x600 with 2 Axes>"
      ]
     },
     "metadata": {},
     "output_type": "display_data"
    },
    {
     "name": "stdout",
     "output_type": "stream",
     "text": [
      "Classification Report:\n",
      "               precision    recall  f1-score   support\n",
      "\n",
      "        Loss       0.48      0.42      0.45        95\n",
      "         Win       0.53      0.58      0.55       105\n",
      "\n",
      "    accuracy                           0.51       200\n",
      "   macro avg       0.50      0.50      0.50       200\n",
      "weighted avg       0.50      0.51      0.50       200\n",
      "\n"
     ]
    },
    {
     "data": {
      "image/png": "[encoded data removed]",
      "text/plain": [
       "<Figure size 640x480 with 1 Axes>"
      ]
     },
     "metadata": {},
     "output_type": "display_data"
    }
   ],
   "source": [
    "import matplotlib.pyplot as plt\n",
    "from sklearn.metrics import confusion_matrix, classification_report, roc_curve, auc\n",
    "import itertools\n",
    "\n",
    "# 混同行列を可視化\n",
    "y_pred_test_labels = (y_pred_test > 0.5).float()  # テストデータの予測値を0.5で四捨五入してクラスラベルに変換\n",
    "cm = confusion_matrix(y_test, y_pred_test_labels)  # 混同行列を計算\n",
    "\n",
    "plt.figure(figsize=(6, 6))\n",
    "plt.imshow(cm, interpolation='nearest', cmap=plt.cm.Blues)  # 混同行列を青のカラーマップで描画\n",
    "plt.title('Confusion Matrix')  # タイトルを設定\n",
    "plt.colorbar()  # カラーバーを表示\n",
    "tick_marks = range(2)  # クラスの数に基づいて目盛りを設定\n",
    "plt.xticks(tick_marks, ['Loss', 'Win'], rotation=45)  # x軸にクラスラベルを設定\n",
    "plt.yticks(tick_marks, ['Loss', 'Win'])  # y軸にクラスラベルを設定\n",
    "\n",
    "# 混同行列の各セルに数値を表示（閾値に応じて色を変更）\n",
    "thresh = cm.max() / 2  # 色を決める閾値を設定\n",
    "for i, j in itertools.product(range(cm.shape[0]), range(cm.shape[1])):\n",
    "    plt.text(j, i, cm[i, j], horizontalalignment=\"center\",\n",
    "             color=\"white\" if cm[i, j] > thresh else \"black\")\n",
    "\n",
    "plt.tight_layout()\n",
    "plt.ylabel('True label')  # y軸のラベル\n",
    "plt.xlabel('Predicted label')  # x軸のラベル\n",
    "plt.show()\n",
    "\n",
    "# 分類レポートを表示\n",
    "print(\"Classification Report:\\n\", classification_report(y_test, y_pred_test_labels, target_names=['Loss', 'Win']))\n",
    "\n",
    "# ROC曲線をプロット\n",
    "fpr, tpr, thresholds = roc_curve(y_test, y_pred_test)  # 偽陽性率、真陽性率、閾値を計算\n",
    "roc_auc = auc(fpr, tpr)  # AUC（ROC曲線下面積）を計算\n",
    "\n",
    "plt.figure()\n",
    "plt.plot(fpr, tpr, color='darkorange', lw=2, label=f'ROC curve (area = {roc_auc:.2f})')  # ROC曲線をプロット\n",
    "plt.plot([0, 1], [0, 1], color='navy', lw=2, linestyle='--')  # 対角線（ランダム分類）をプロット\n",
    "plt.xlim([0.0, 1.0])  # x軸の範囲を設定\n",
    "plt.ylim([0.0, 1.05])  # y軸の範囲を設定\n",
    "plt.xlabel('False Positive Rate')  # x軸のラベル\n",
    "plt.ylabel('True Positive Rate')  # y軸のラベル\n",
    "plt.title('Receiver Operating Characteristic (ROC)')  # タイトルを設定\n",
    "plt.legend(loc=\"lower right\")  # 凡例を右下に表示\n",
    "plt.show()\n"
   ]
  },
  {
   "cell_type": "markdown",
   "metadata": {},
   "source": [
    "### Step 6: Model Saving and Loading  \n",
    "\n",
    "#### Task 6: Save and load the trained model.  \n",
    "\n",
    "This task demonstrates the techniques to persist a trained model using `torch.save` and reload it using `torch.load`. Evaluating the loaded model ensures that it retains its performance, making it practical for deployment in real-world applications.  \n",
    "\n",
    "#### Exercise 6:  \n",
    "\n",
    "Write code to save the trained model and reload it. Ensure the loaded model performs consistently by evaluating it on the test dataset.  \n"
   ]
  },
  {
   "cell_type": "markdown",
   "metadata": {},
   "source": [
    "演習6: モデルの保存と読み込み\n",
    "このタスクでは、トレーニング済みのモデルをtorch.saveを使って保存し、torch.loadを用いて再読み込みする方法を説明します。読み込んだモデルが元のパフォーマンスを保持しているかを評価し、実際のアプリケーションにおけるデプロイの際にも利用できるようにします。\n",
    "\n",
    "Exercise 6:\n",
    "トレーニング済みのモデルを保存し、再読み込みするコードを書いてください。また、読み込んだモデルがテストデータセットで一貫したパフォーマンスを発揮することを確認してください。"
   ]
  },
  {
   "cell_type": "code",
   "execution_count": 11,
   "metadata": {},
   "outputs": [
    {
     "name": "stdout",
     "output_type": "stream",
     "text": [
      "Loaded Model Test Accuracy: 0.5050\n"
     ]
    },
    {
     "name": "stderr",
     "output_type": "stream",
     "text": [
      "C:\\Users\\大澤峻\\AppData\\Local\\Temp\\ipykernel_23964\\2141370921.py:6: FutureWarning: You are using `torch.load` with `weights_only=False` (the current default value), which uses the default pickle module implicitly. It is possible to construct malicious pickle data which will execute arbitrary code during unpickling (See https://github.com/pytorch/pytorch/blob/main/SECURITY.md#untrusted-models for more details). In a future release, the default value for `weights_only` will be flipped to `True`. This limits the functions that could be executed during unpickling. Arbitrary objects will no longer be allowed to be loaded via this mode unless they are explicitly allowlisted by the user via `torch.serialization.add_safe_globals`. We recommend you start setting `weights_only=True` for any use case where you don't have full control of the loaded file. Please open an issue on GitHub for any issues related to this experimental feature.\n",
      "  loaded_model.load_state_dict(torch.load('logistic_regression_model.pth'))  # 保存した状態を読み込む\n"
     ]
    }
   ],
   "source": [
    "# モデルを保存\n",
    "torch.save(model.state_dict(), 'logistic_regression_model.pth')  # モデルの状態（パラメータ）をファイルに保存\n",
    "\n",
    "# モデルを読み込む\n",
    "loaded_model = LogisticRegressionModel(input_dim)  # 新しいモデルインスタンスを作成\n",
    "loaded_model.load_state_dict(torch.load('logistic_regression_model.pth'))  # 保存した状態を読み込む\n",
    "\n",
    "# 読み込んだモデルを評価モードに設定\n",
    "loaded_model.eval()  # 評価モードにすることで、ドロップアウトやバッチ正規化の影響を防ぐ\n",
    "\n",
    "# 読み込んだモデルを評価\n",
    "with torch.no_grad():  # 評価時は勾配計算を停止してメモリを節約\n",
    "    y_pred_test_loaded = loaded_model(X_test).detach()  # テストデータで予測を行い、勾配追跡を解除\n",
    "    loaded_test_accuracy = ((y_pred_test_loaded > 0.5) == y_test).float().mean()  # 予測結果を0.5で四捨五入して精度を計算\n",
    "    print(f'Loaded Model Test Accuracy: {loaded_test_accuracy:.4f}')  # 読み込んだモデルのテスト精度を表示\n"
   ]
  },
  {
   "cell_type": "markdown",
   "metadata": {},
   "source": [
    "### Step 7: Hyperparameter Tuning  \n",
    "\n",
    "#### Task 7: Perform hyperparameter tuning to find the best learning rate.  \n",
    "\n",
    "By testing different learning rates, you will identify the optimal rate that provides the best test accuracy. This fine-tuning is crucial for enhancing model performance .  \n",
    "\n",
    "#### Exercise 7:  \n",
    "\n",
    "Perform hyperparameter tuning to find the best learning rate. Retrain the model for each learning rate and evaluate its performance to identify the optimal rate.  \n"
   ]
  },
  {
   "cell_type": "markdown",
   "metadata": {},
   "source": [
    "演習7: ハイパーパラメータチューニング\n",
    "このタスクでは、異なる学習率（learning rate）をテストすることで、テスト精度が最も高くなる最適な学習率を見つけます。学習率の微調整は、モデルのパフォーマンスを向上させるために非常に重要です。\n",
    "\n",
    "Exercise 7:\n",
    "異なる学習率でモデルを再訓練し、それぞれの性能を評価して最適な学習率を特定してください。"
   ]
  },
  {
   "cell_type": "code",
   "execution_count": 12,
   "metadata": {},
   "outputs": [
    {
     "name": "stdout",
     "output_type": "stream",
     "text": [
      "Learning Rate: 0.01, Epoch [100/1000], Loss: 0.6971\n",
      "Learning Rate: 0.01, Epoch [200/1000], Loss: 0.6924\n",
      "Learning Rate: 0.01, Epoch [300/1000], Loss: 0.6896\n",
      "Learning Rate: 0.01, Epoch [400/1000], Loss: 0.6879\n",
      "Learning Rate: 0.01, Epoch [500/1000], Loss: 0.6868\n",
      "Learning Rate: 0.01, Epoch [600/1000], Loss: 0.6862\n",
      "Learning Rate: 0.01, Epoch [700/1000], Loss: 0.6858\n",
      "Learning Rate: 0.01, Epoch [800/1000], Loss: 0.6856\n",
      "Learning Rate: 0.01, Epoch [900/1000], Loss: 0.6855\n",
      "Learning Rate: 0.01, Epoch [1000/1000], Loss: 0.6854\n",
      "Learning Rate: 0.01, Test Accuracy: 0.5150\n",
      "Learning Rate: 0.05, Epoch [100/1000], Loss: 0.6898\n",
      "Learning Rate: 0.05, Epoch [200/1000], Loss: 0.6856\n",
      "Learning Rate: 0.05, Epoch [300/1000], Loss: 0.6853\n",
      "Learning Rate: 0.05, Epoch [400/1000], Loss: 0.6853\n",
      "Learning Rate: 0.05, Epoch [500/1000], Loss: 0.6852\n",
      "Learning Rate: 0.05, Epoch [600/1000], Loss: 0.6852\n",
      "Learning Rate: 0.05, Epoch [700/1000], Loss: 0.6852\n",
      "Learning Rate: 0.05, Epoch [800/1000], Loss: 0.6852\n",
      "Learning Rate: 0.05, Epoch [900/1000], Loss: 0.6852\n",
      "Learning Rate: 0.05, Epoch [1000/1000], Loss: 0.6852\n",
      "Learning Rate: 0.05, Test Accuracy: 0.5050\n",
      "Learning Rate: 0.1, Epoch [100/1000], Loss: 0.6857\n",
      "Learning Rate: 0.1, Epoch [200/1000], Loss: 0.6853\n",
      "Learning Rate: 0.1, Epoch [300/1000], Loss: 0.6852\n",
      "Learning Rate: 0.1, Epoch [400/1000], Loss: 0.6852\n",
      "Learning Rate: 0.1, Epoch [500/1000], Loss: 0.6852\n",
      "Learning Rate: 0.1, Epoch [600/1000], Loss: 0.6852\n",
      "Learning Rate: 0.1, Epoch [700/1000], Loss: 0.6852\n",
      "Learning Rate: 0.1, Epoch [800/1000], Loss: 0.6852\n",
      "Learning Rate: 0.1, Epoch [900/1000], Loss: 0.6852\n",
      "Learning Rate: 0.1, Epoch [1000/1000], Loss: 0.6852\n",
      "Learning Rate: 0.1, Test Accuracy: 0.5050\n",
      "Best Learning Rate: 0.01, Best Test Accuracy: 0.5150\n"
     ]
    }
   ],
   "source": [
    "# 学習率のリストを定義\n",
    "learning_rates = [0.01, 0.05, 0.1]  # 調整する学習率の候補\n",
    "best_accuracy = 0  # 最良の精度を記録する変数\n",
    "best_lr = 0  # 最良の学習率を記録する変数\n",
    "\n",
    "# 各学習率でモデルをトレーニング\n",
    "for lr in learning_rates:\n",
    "    # 各学習率ごとにモデルとオプティマイザを再初期化\n",
    "    model = LogisticRegressionModel(input_dim)  # モデルを再初期化\n",
    "    criterion = nn.BCELoss()  # 損失関数を再設定\n",
    "    optimizer = optim.SGD(model.parameters(), lr=lr)  # 現在の学習率でオプティマイザを設定\n",
    "    \n",
    "    # モデルをトレーニング\n",
    "    epochs = 1000  # 学習エポック数\n",
    "    for epoch in range(epochs):\n",
    "        model.train()  # トレーニングモードに設定\n",
    "        optimizer.zero_grad()  # 勾配をゼロにリセット\n",
    "        outputs = model(X_train)  # トレーニングデータで予測\n",
    "        loss = criterion(outputs, y_train)  # 損失を計算\n",
    "        loss.backward()  # 逆伝播で勾配を計算\n",
    "        optimizer.step()  # 勾配降下でパラメータを更新\n",
    "        \n",
    "        # 100エポックごとに損失を表示\n",
    "        if (epoch+1) % 100 == 0:\n",
    "            print(f'Learning Rate: {lr}, Epoch [{epoch+1}/{epochs}], Loss: {loss.item():.4f}')\n",
    "    \n",
    "    # モデルの評価\n",
    "    model.eval()  # 評価モードに設定\n",
    "    with torch.no_grad():  # 評価時は勾配計算を停止\n",
    "        y_pred_test = model(X_test).detach()  # テストデータで予測\n",
    "        test_accuracy = ((y_pred_test > 0.5) == y_test).float().mean()  # テストデータの精度を計算\n",
    "        print(f'Learning Rate: {lr}, Test Accuracy: {test_accuracy:.4f}')\n",
    "        \n",
    "        # 最良の精度と学習率を更新\n",
    "        if test_accuracy > best_accuracy:\n",
    "            best_accuracy = test_accuracy\n",
    "            best_lr = lr\n",
    "\n",
    "# 最良の学習率とそのときのテスト精度を表示\n",
    "print(f'Best Learning Rate: {best_lr}, Best Test Accuracy: {best_accuracy:.4f}')\n"
   ]
  },
  {
   "cell_type": "markdown",
   "metadata": {},
   "source": [
    "### Step 8: Feature Importance  \n",
    "\n",
    "#### Task 8: Evaluate feature importance to understand the impact of each feature on the prediction.  \n",
    "\n",
    "The code to evaluate feature importance to understand the impact of each feature on the prediction.  \n",
    "\n",
    "#### Exercise 8:  \n",
    "\n",
    "Evaluate feature importance by extracting the weights of the linear layer and creating a DataFrame to display the importance of each feature. Visualize the feature importance using a bar plot.  \n"
   ]
  },
  {
   "cell_type": "markdown",
   "metadata": {},
   "source": [
    "演習8: 特徴量の重要性の評価\n",
    "このタスクでは、各特徴量が予測に与える影響を理解するために特徴量の重要性を評価します。線形層の重みを抽出し、各特徴量の重要性を表示するためのDataFrameを作成し、バープロットで可視化します。\n",
    "\n",
    "Exercise 8:\n",
    "線形層の重みを抽出して特徴量の重要性を評価し、各特徴量の重要性を表示するDataFrameを作成してください。また、特徴量の重要性をバーグラフで可視化してください。"
   ]
  },
  {
   "cell_type": "code",
   "execution_count": 13,
   "metadata": {},
   "outputs": [
    {
     "name": "stdout",
     "output_type": "stream",
     "text": [
      "        Feature  Importance\n",
      "3   gold_earned    0.175341\n",
      "0         kills    0.130975\n",
      "5  wards_placed    0.106087\n",
      "1        deaths   -0.005131\n",
      "4            cs   -0.007268\n",
      "2       assists   -0.013663\n",
      "7  damage_dealt   -0.018873\n",
      "6  wards_killed   -0.034605\n"
     ]
    },
    {
     "data": {
      "image/png": "[encoded data removed]",
      "text/plain": [
       "<Figure size 1000x600 with 1 Axes>"
      ]
     },
     "metadata": {},
     "output_type": "display_data"
    }
   ],
   "source": [
    "import pandas as pd\n",
    "import matplotlib.pyplot as plt\n",
    "\n",
    "# 線形層の重みを抽出\n",
    "weights = model.linear.weight.data.numpy().flatten()  # 線形層の重みをNumPy配列として取得\n",
    "features = X.columns  # 特徴量の名前（データセットの列名）を取得\n",
    "\n",
    "# 特徴量の重要性をDataFrameにまとめる\n",
    "feature_importance = pd.DataFrame({'Feature': features, 'Importance': weights})  # 特徴量とその重要性のデータフレームを作成\n",
    "feature_importance = feature_importance.sort_values(by='Importance', ascending=False)  # 重要性で降順に並べ替え\n",
    "\n",
    "# 特徴量の重要性を表示\n",
    "print(feature_importance)\n",
    "\n",
    "# 特徴量の重要性をプロット\n",
    "plt.figure(figsize=(10, 6))\n",
    "plt.bar(feature_importance['Feature'], feature_importance['Importance'])  # バーグラフを作成\n",
    "plt.xlabel('Features')  # x軸のラベル\n",
    "plt.ylabel('Importance')  # y軸のラベル\n",
    "plt.title('Feature Importance')  # グラフのタイトル\n",
    "plt.xticks(rotation=45)  # x軸のラベルを45度回転\n",
    "plt.show()\n"
   ]
  },
  {
   "cell_type": "markdown",
   "metadata": {},
   "source": [
    "#### Conclusion:  \n",
    "\n",
    "Congratulations on completing the project! In this final project, you built a logistic regression model to predict the outcomes of League of Legends matches based on various in-game statistics. This comprehensive project involved several key steps, including data loading and preprocessing, model implementation, training, optimization, evaluation, visualization, model saving and loading, hyperparameter tuning, and feature importance analysis. This project provided hands-on experience with the complete workflow of developing a machine learning model for binary classification tasks using PyTorch.\n",
    "\n",
    "© Copyright IBM Corporation. All rights reserved.\n"
   ]
  },
  {
   "cell_type": "code",
   "execution_count": null,
   "metadata": {},
   "outputs": [],
   "source": []
  },
  {
   "cell_type": "code",
   "execution_count": null,
   "metadata": {},
   "outputs": [],
   "source": []
  }
 ],
 "metadata": {
  "kernelspec": {
   "display_name": "Python 3",
   "language": "python",
   "name": "python3"
  },
  "language_info": {
   "codemirror_mode": {
    "name": "ipython",
    "version": 3
   },
   "file_extension": ".py",
   "mimetype": "text/x-python",
   "name": "python",
   "nbconvert_exporter": "python",
   "pygments_lexer": "ipython3",
   "version": "3.12.4"
  },
  "prev_pub_hash": "01dcfd9092213617d1f8aeba91d73aabc8cdce47cb7efe1510845fc98189c2a4"
 },
 "nbformat": 4,
 "nbformat_minor": 4
}
